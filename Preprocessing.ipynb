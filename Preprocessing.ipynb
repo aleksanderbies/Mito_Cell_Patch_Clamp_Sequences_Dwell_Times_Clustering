{
 "cells": [
  {
   "cell_type": "code",
   "execution_count": 1,
   "id": "ee6c6a18",
   "metadata": {},
   "outputs": [],
   "source": [
    "import pandas as pd\n",
    "\n",
    "from modules.DTSequences import OCO_Sequence"
   ]
  },
  {
   "cell_type": "code",
   "execution_count": 2,
   "id": "3c46f99f",
   "metadata": {},
   "outputs": [],
   "source": [
    "path = 'data/'"
   ]
  },
  {
   "cell_type": "code",
   "execution_count": 3,
   "id": "fce7868d",
   "metadata": {},
   "outputs": [],
   "source": [
    "e10 = OCO_Sequence(path + '-40mV/e10dwell_timesy.txt', '-40mV', False)\n",
    "e24 = OCO_Sequence(path + '-40mV/e24dwell_timesy.txt', '-40mV', False)\n",
    "e38 = OCO_Sequence(path + '-40mV/e38dwell_timesy.txt', '-40mV', True)\n",
    "e45 = OCO_Sequence(path + '-40mV/e45dwell_timesy.txt', '-40mV', False)\n",
    "e66 = OCO_Sequence(path + '-40mV/e66dwell_timesy.txt', '-40mV', True)\n",
    "e20  = OCO_Sequence(path + '40mV/e20dwell_timesy.txt', '40mV', True)\n",
    "e34  = OCO_Sequence(path + '40mV/e34dwell_timesy.txt', '40mV', True)\n",
    "e41  = OCO_Sequence(path + '40mV/e41dwell_timesy.txt', '40mV', True)"
   ]
  },
  {
   "cell_type": "code",
   "execution_count": 4,
   "id": "7bab00dc",
   "metadata": {},
   "outputs": [],
   "source": [
    "e10_df = e10.make_DataFrame()\n",
    "e24_df = e24.make_DataFrame()\n",
    "e38_df = e38.make_DataFrame()\n",
    "e45_df = e45.make_DataFrame()\n",
    "e66_df = e66.make_DataFrame()\n",
    "e20_df = e20.make_DataFrame()\n",
    "e34_df = e34.make_DataFrame()\n",
    "e41_df = e41.make_DataFrame()"
   ]
  },
  {
   "cell_type": "code",
   "execution_count": 5,
   "id": "7196019b",
   "metadata": {},
   "outputs": [],
   "source": [
    "df_40 = pd.concat([e10_df, e24_df, e38_df, e45_df, e66_df, e20_df, e34_df, e41_df], ignore_index=True)"
   ]
  },
  {
   "cell_type": "code",
   "execution_count": 6,
   "id": "cf6dca9e",
   "metadata": {},
   "outputs": [
    {
     "data": {
      "text/html": [
       "<div>\n",
       "<style scoped>\n",
       "    .dataframe tbody tr th:only-of-type {\n",
       "        vertical-align: middle;\n",
       "    }\n",
       "\n",
       "    .dataframe tbody tr th {\n",
       "        vertical-align: top;\n",
       "    }\n",
       "\n",
       "    .dataframe thead th {\n",
       "        text-align: right;\n",
       "    }\n",
       "</style>\n",
       "<table border=\"1\" class=\"dataframe\">\n",
       "  <thead>\n",
       "    <tr style=\"text-align: right;\">\n",
       "      <th></th>\n",
       "      <th>o1</th>\n",
       "      <th>c</th>\n",
       "      <th>o2</th>\n",
       "      <th>category</th>\n",
       "    </tr>\n",
       "  </thead>\n",
       "  <tbody>\n",
       "    <tr>\n",
       "      <th>0</th>\n",
       "      <td>0.002294</td>\n",
       "      <td>0.170213</td>\n",
       "      <td>0.059393</td>\n",
       "      <td>-40mV</td>\n",
       "    </tr>\n",
       "    <tr>\n",
       "      <th>1</th>\n",
       "      <td>0.059393</td>\n",
       "      <td>0.031915</td>\n",
       "      <td>0.001020</td>\n",
       "      <td>-40mV</td>\n",
       "    </tr>\n",
       "    <tr>\n",
       "      <th>2</th>\n",
       "      <td>0.001020</td>\n",
       "      <td>0.095745</td>\n",
       "      <td>0.032373</td>\n",
       "      <td>-40mV</td>\n",
       "    </tr>\n",
       "    <tr>\n",
       "      <th>3</th>\n",
       "      <td>0.032373</td>\n",
       "      <td>0.031915</td>\n",
       "      <td>0.294927</td>\n",
       "      <td>-40mV</td>\n",
       "    </tr>\n",
       "    <tr>\n",
       "      <th>4</th>\n",
       "      <td>0.294927</td>\n",
       "      <td>0.638298</td>\n",
       "      <td>0.023961</td>\n",
       "      <td>-40mV</td>\n",
       "    </tr>\n",
       "  </tbody>\n",
       "</table>\n",
       "</div>"
      ],
      "text/plain": [
       "         o1         c        o2 category\n",
       "0  0.002294  0.170213  0.059393    -40mV\n",
       "1  0.059393  0.031915  0.001020    -40mV\n",
       "2  0.001020  0.095745  0.032373    -40mV\n",
       "3  0.032373  0.031915  0.294927    -40mV\n",
       "4  0.294927  0.638298  0.023961    -40mV"
      ]
     },
     "execution_count": 6,
     "metadata": {},
     "output_type": "execute_result"
    }
   ],
   "source": [
    "df_40.head()"
   ]
  },
  {
   "cell_type": "code",
   "execution_count": 7,
   "id": "bb8c04e8",
   "metadata": {},
   "outputs": [],
   "source": [
    "df_40.drop('category', axis=1, inplace=True)"
   ]
  },
  {
   "cell_type": "code",
   "execution_count": 8,
   "id": "38d58f2e",
   "metadata": {},
   "outputs": [
    {
     "data": {
      "text/html": [
       "<div>\n",
       "<style scoped>\n",
       "    .dataframe tbody tr th:only-of-type {\n",
       "        vertical-align: middle;\n",
       "    }\n",
       "\n",
       "    .dataframe tbody tr th {\n",
       "        vertical-align: top;\n",
       "    }\n",
       "\n",
       "    .dataframe thead th {\n",
       "        text-align: right;\n",
       "    }\n",
       "</style>\n",
       "<table border=\"1\" class=\"dataframe\">\n",
       "  <thead>\n",
       "    <tr style=\"text-align: right;\">\n",
       "      <th></th>\n",
       "      <th>o1</th>\n",
       "      <th>c</th>\n",
       "      <th>o2</th>\n",
       "    </tr>\n",
       "  </thead>\n",
       "  <tbody>\n",
       "    <tr>\n",
       "      <th>0</th>\n",
       "      <td>0.002294</td>\n",
       "      <td>0.170213</td>\n",
       "      <td>0.059393</td>\n",
       "    </tr>\n",
       "    <tr>\n",
       "      <th>1</th>\n",
       "      <td>0.059393</td>\n",
       "      <td>0.031915</td>\n",
       "      <td>0.001020</td>\n",
       "    </tr>\n",
       "    <tr>\n",
       "      <th>2</th>\n",
       "      <td>0.001020</td>\n",
       "      <td>0.095745</td>\n",
       "      <td>0.032373</td>\n",
       "    </tr>\n",
       "    <tr>\n",
       "      <th>3</th>\n",
       "      <td>0.032373</td>\n",
       "      <td>0.031915</td>\n",
       "      <td>0.294927</td>\n",
       "    </tr>\n",
       "    <tr>\n",
       "      <th>4</th>\n",
       "      <td>0.294927</td>\n",
       "      <td>0.638298</td>\n",
       "      <td>0.023961</td>\n",
       "    </tr>\n",
       "  </tbody>\n",
       "</table>\n",
       "</div>"
      ],
      "text/plain": [
       "         o1         c        o2\n",
       "0  0.002294  0.170213  0.059393\n",
       "1  0.059393  0.031915  0.001020\n",
       "2  0.001020  0.095745  0.032373\n",
       "3  0.032373  0.031915  0.294927\n",
       "4  0.294927  0.638298  0.023961"
      ]
     },
     "execution_count": 8,
     "metadata": {},
     "output_type": "execute_result"
    }
   ],
   "source": [
    "df_40.head()"
   ]
  },
  {
   "cell_type": "code",
   "execution_count": 9,
   "id": "a1f92cb7",
   "metadata": {},
   "outputs": [],
   "source": [
    "df_40.to_csv('prepared_dataset/40_mV_OCO_sequences.csv', index=False)"
   ]
  },
  {
   "cell_type": "code",
   "execution_count": null,
   "id": "ea25f18a",
   "metadata": {},
   "outputs": [],
   "source": []
  }
 ],
 "metadata": {
  "kernelspec": {
   "display_name": "Python 3 (ipykernel)",
   "language": "python",
   "name": "python3"
  },
  "language_info": {
   "codemirror_mode": {
    "name": "ipython",
    "version": 3
   },
   "file_extension": ".py",
   "mimetype": "text/x-python",
   "name": "python",
   "nbconvert_exporter": "python",
   "pygments_lexer": "ipython3",
   "version": "3.9.13"
  }
 },
 "nbformat": 4,
 "nbformat_minor": 5
}
