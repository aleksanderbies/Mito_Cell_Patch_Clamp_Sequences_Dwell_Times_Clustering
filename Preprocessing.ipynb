{
 "cells": [
  {
   "cell_type": "code",
   "execution_count": 1,
   "id": "ee6c6a18",
   "metadata": {},
   "outputs": [],
   "source": [
    "import pandas as pd\n",
    "\n",
    "from modules.DTSequences import OCO_Sequence"
   ]
  },
  {
   "cell_type": "code",
   "execution_count": 2,
   "id": "3c46f99f",
   "metadata": {},
   "outputs": [],
   "source": [
    "path = 'data/'"
   ]
  },
  {
   "cell_type": "markdown",
   "id": "f1014dad",
   "metadata": {},
   "source": [
    "### 20mV (hyperpolarization & depolarization) Sequences"
   ]
  },
  {
   "cell_type": "code",
   "execution_count": 3,
   "id": "2e5f09fa",
   "metadata": {},
   "outputs": [],
   "source": [
    "e9 = OCO_Sequence(path + '-20mV/e9dwell_timesy.txt', '-20mV', False)\n",
    "e37 = OCO_Sequence(path + '-20mV/e37dwell_timesy.txt', '-20mV', True)\n",
    "e44 = OCO_Sequence(path + '-20mV/e44dwell_timesy.txt', '-20mV', True)\n",
    "e65 = OCO_Sequence(path + '-20mV/e65dwell_timesy.txt', '-20mV', True)\n",
    "e72 = OCO_Sequence(path + '-20mV/e72dwell_timesy.txt', '-20mV', False)\n",
    "e79 = OCO_Sequence(path + '-20mV/e79dwell_timesy.txt', '-20mV', True)\n",
    "e14 = OCO_Sequence(path + '20mV/e14dwell_timesy.txt', '20mV', False)\n",
    "e21 = OCO_Sequence(path + '20mV/e21dwell_timesy.txt', '20mV', False)\n",
    "e35 = OCO_Sequence(path + '20mV/e35dwell_timesy.txt', '20mV', True)\n",
    "e42 = OCO_Sequence(path + '20mV/e42dwell_timesy.txt', '20mV', True)\n",
    "e49 = OCO_Sequence(path + '20mV/e49dwell_timesy.txt', '20mV', False)"
   ]
  },
  {
   "cell_type": "code",
   "execution_count": 4,
   "id": "72226e03",
   "metadata": {},
   "outputs": [],
   "source": [
    "e9_df = e9.make_DataFrame()\n",
    "e37_df = e37.make_DataFrame()\n",
    "e44_df = e44.make_DataFrame()\n",
    "e65_df = e65.make_DataFrame()\n",
    "e72_df = e72.make_DataFrame()\n",
    "e79_df = e79.make_DataFrame()\n",
    "e14_df = e14.make_DataFrame()\n",
    "e21_df = e21.make_DataFrame()\n",
    "e35_df = e35.make_DataFrame()\n",
    "e42_df = e42.make_DataFrame()\n",
    "e49_df = e49.make_DataFrame()"
   ]
  },
  {
   "cell_type": "code",
   "execution_count": 5,
   "id": "0d499895",
   "metadata": {},
   "outputs": [],
   "source": [
    "df_20 = pd.concat([e9_df, e37_df, e44_df, e65_df, e72_df, e79_df, e14_df, e21_df, e35_df, e42_df, e49_df])"
   ]
  },
  {
   "cell_type": "code",
   "execution_count": 6,
   "id": "061a5da2",
   "metadata": {},
   "outputs": [
    {
     "data": {
      "text/html": [
       "<div>\n",
       "<style scoped>\n",
       "    .dataframe tbody tr th:only-of-type {\n",
       "        vertical-align: middle;\n",
       "    }\n",
       "\n",
       "    .dataframe tbody tr th {\n",
       "        vertical-align: top;\n",
       "    }\n",
       "\n",
       "    .dataframe thead th {\n",
       "        text-align: right;\n",
       "    }\n",
       "</style>\n",
       "<table border=\"1\" class=\"dataframe\">\n",
       "  <thead>\n",
       "    <tr style=\"text-align: right;\">\n",
       "      <th></th>\n",
       "      <th>o1</th>\n",
       "      <th>c</th>\n",
       "      <th>o2</th>\n",
       "      <th>category</th>\n",
       "    </tr>\n",
       "  </thead>\n",
       "  <tbody>\n",
       "    <tr>\n",
       "      <th>1</th>\n",
       "      <td>0.479905</td>\n",
       "      <td>0.000000</td>\n",
       "      <td>0.731678</td>\n",
       "      <td>-20mV</td>\n",
       "    </tr>\n",
       "    <tr>\n",
       "      <th>2</th>\n",
       "      <td>0.731678</td>\n",
       "      <td>0.085809</td>\n",
       "      <td>0.044917</td>\n",
       "      <td>-20mV</td>\n",
       "    </tr>\n",
       "    <tr>\n",
       "      <th>3</th>\n",
       "      <td>0.044917</td>\n",
       "      <td>0.056106</td>\n",
       "      <td>0.014184</td>\n",
       "      <td>-20mV</td>\n",
       "    </tr>\n",
       "    <tr>\n",
       "      <th>4</th>\n",
       "      <td>0.014184</td>\n",
       "      <td>0.039604</td>\n",
       "      <td>0.002364</td>\n",
       "      <td>-20mV</td>\n",
       "    </tr>\n",
       "    <tr>\n",
       "      <th>5</th>\n",
       "      <td>0.002364</td>\n",
       "      <td>0.660066</td>\n",
       "      <td>0.143026</td>\n",
       "      <td>-20mV</td>\n",
       "    </tr>\n",
       "  </tbody>\n",
       "</table>\n",
       "</div>"
      ],
      "text/plain": [
       "         o1         c        o2 category\n",
       "1  0.479905  0.000000  0.731678    -20mV\n",
       "2  0.731678  0.085809  0.044917    -20mV\n",
       "3  0.044917  0.056106  0.014184    -20mV\n",
       "4  0.014184  0.039604  0.002364    -20mV\n",
       "5  0.002364  0.660066  0.143026    -20mV"
      ]
     },
     "execution_count": 6,
     "metadata": {},
     "output_type": "execute_result"
    }
   ],
   "source": [
    "df_20.head()"
   ]
  },
  {
   "cell_type": "code",
   "execution_count": 7,
   "id": "259515c5",
   "metadata": {},
   "outputs": [],
   "source": [
    "df_20.drop('category', axis=1, inplace=True)"
   ]
  },
  {
   "cell_type": "code",
   "execution_count": 8,
   "id": "d0d35b5c",
   "metadata": {},
   "outputs": [],
   "source": [
    "df_20.to_csv('prepared_dataset/20_mV_OCO_sequences.csv', index=False)"
   ]
  },
  {
   "cell_type": "markdown",
   "id": "71ef80be",
   "metadata": {},
   "source": [
    "### 40mV (hyperpolarization & depolarization) Sequences"
   ]
  },
  {
   "cell_type": "code",
   "execution_count": 9,
   "id": "fce7868d",
   "metadata": {},
   "outputs": [],
   "source": [
    "e10 = OCO_Sequence(path + '-40mV/e10dwell_timesy.txt', '-40mV', False)\n",
    "e24 = OCO_Sequence(path + '-40mV/e24dwell_timesy.txt', '-40mV', False)\n",
    "e38 = OCO_Sequence(path + '-40mV/e38dwell_timesy.txt', '-40mV', True)\n",
    "e45 = OCO_Sequence(path + '-40mV/e45dwell_timesy.txt', '-40mV', False)\n",
    "e66 = OCO_Sequence(path + '-40mV/e66dwell_timesy.txt', '-40mV', True)\n",
    "e20  = OCO_Sequence(path + '40mV/e20dwell_timesy.txt', '40mV', True)\n",
    "e34  = OCO_Sequence(path + '40mV/e34dwell_timesy.txt', '40mV', True)\n",
    "e41  = OCO_Sequence(path + '40mV/e41dwell_timesy.txt', '40mV', True)"
   ]
  },
  {
   "cell_type": "code",
   "execution_count": 10,
   "id": "7bab00dc",
   "metadata": {},
   "outputs": [],
   "source": [
    "e10_df = e10.make_DataFrame()\n",
    "e24_df = e24.make_DataFrame()\n",
    "e38_df = e38.make_DataFrame()\n",
    "e45_df = e45.make_DataFrame()\n",
    "e66_df = e66.make_DataFrame()\n",
    "e20_df = e20.make_DataFrame()\n",
    "e34_df = e34.make_DataFrame()\n",
    "e41_df = e41.make_DataFrame()"
   ]
  },
  {
   "cell_type": "code",
   "execution_count": 11,
   "id": "7196019b",
   "metadata": {},
   "outputs": [],
   "source": [
    "df_40 = pd.concat([e10_df, e24_df, e38_df, e45_df, e66_df, e20_df, e34_df, e41_df], ignore_index=True)"
   ]
  },
  {
   "cell_type": "code",
   "execution_count": 12,
   "id": "cf6dca9e",
   "metadata": {},
   "outputs": [
    {
     "data": {
      "text/html": [
       "<div>\n",
       "<style scoped>\n",
       "    .dataframe tbody tr th:only-of-type {\n",
       "        vertical-align: middle;\n",
       "    }\n",
       "\n",
       "    .dataframe tbody tr th {\n",
       "        vertical-align: top;\n",
       "    }\n",
       "\n",
       "    .dataframe thead th {\n",
       "        text-align: right;\n",
       "    }\n",
       "</style>\n",
       "<table border=\"1\" class=\"dataframe\">\n",
       "  <thead>\n",
       "    <tr style=\"text-align: right;\">\n",
       "      <th></th>\n",
       "      <th>o1</th>\n",
       "      <th>c</th>\n",
       "      <th>o2</th>\n",
       "      <th>category</th>\n",
       "    </tr>\n",
       "  </thead>\n",
       "  <tbody>\n",
       "    <tr>\n",
       "      <th>0</th>\n",
       "      <td>0.002294</td>\n",
       "      <td>0.170213</td>\n",
       "      <td>0.059393</td>\n",
       "      <td>-40mV</td>\n",
       "    </tr>\n",
       "    <tr>\n",
       "      <th>1</th>\n",
       "      <td>0.059393</td>\n",
       "      <td>0.031915</td>\n",
       "      <td>0.001020</td>\n",
       "      <td>-40mV</td>\n",
       "    </tr>\n",
       "    <tr>\n",
       "      <th>2</th>\n",
       "      <td>0.001020</td>\n",
       "      <td>0.095745</td>\n",
       "      <td>0.032373</td>\n",
       "      <td>-40mV</td>\n",
       "    </tr>\n",
       "    <tr>\n",
       "      <th>3</th>\n",
       "      <td>0.032373</td>\n",
       "      <td>0.031915</td>\n",
       "      <td>0.294927</td>\n",
       "      <td>-40mV</td>\n",
       "    </tr>\n",
       "    <tr>\n",
       "      <th>4</th>\n",
       "      <td>0.294927</td>\n",
       "      <td>0.638298</td>\n",
       "      <td>0.023961</td>\n",
       "      <td>-40mV</td>\n",
       "    </tr>\n",
       "  </tbody>\n",
       "</table>\n",
       "</div>"
      ],
      "text/plain": [
       "         o1         c        o2 category\n",
       "0  0.002294  0.170213  0.059393    -40mV\n",
       "1  0.059393  0.031915  0.001020    -40mV\n",
       "2  0.001020  0.095745  0.032373    -40mV\n",
       "3  0.032373  0.031915  0.294927    -40mV\n",
       "4  0.294927  0.638298  0.023961    -40mV"
      ]
     },
     "execution_count": 12,
     "metadata": {},
     "output_type": "execute_result"
    }
   ],
   "source": [
    "df_40.head()"
   ]
  },
  {
   "cell_type": "code",
   "execution_count": 13,
   "id": "bb8c04e8",
   "metadata": {},
   "outputs": [],
   "source": [
    "df_40.drop('category', axis=1, inplace=True)"
   ]
  },
  {
   "cell_type": "code",
   "execution_count": 14,
   "id": "38d58f2e",
   "metadata": {},
   "outputs": [
    {
     "data": {
      "text/html": [
       "<div>\n",
       "<style scoped>\n",
       "    .dataframe tbody tr th:only-of-type {\n",
       "        vertical-align: middle;\n",
       "    }\n",
       "\n",
       "    .dataframe tbody tr th {\n",
       "        vertical-align: top;\n",
       "    }\n",
       "\n",
       "    .dataframe thead th {\n",
       "        text-align: right;\n",
       "    }\n",
       "</style>\n",
       "<table border=\"1\" class=\"dataframe\">\n",
       "  <thead>\n",
       "    <tr style=\"text-align: right;\">\n",
       "      <th></th>\n",
       "      <th>o1</th>\n",
       "      <th>c</th>\n",
       "      <th>o2</th>\n",
       "    </tr>\n",
       "  </thead>\n",
       "  <tbody>\n",
       "    <tr>\n",
       "      <th>0</th>\n",
       "      <td>0.002294</td>\n",
       "      <td>0.170213</td>\n",
       "      <td>0.059393</td>\n",
       "    </tr>\n",
       "    <tr>\n",
       "      <th>1</th>\n",
       "      <td>0.059393</td>\n",
       "      <td>0.031915</td>\n",
       "      <td>0.001020</td>\n",
       "    </tr>\n",
       "    <tr>\n",
       "      <th>2</th>\n",
       "      <td>0.001020</td>\n",
       "      <td>0.095745</td>\n",
       "      <td>0.032373</td>\n",
       "    </tr>\n",
       "    <tr>\n",
       "      <th>3</th>\n",
       "      <td>0.032373</td>\n",
       "      <td>0.031915</td>\n",
       "      <td>0.294927</td>\n",
       "    </tr>\n",
       "    <tr>\n",
       "      <th>4</th>\n",
       "      <td>0.294927</td>\n",
       "      <td>0.638298</td>\n",
       "      <td>0.023961</td>\n",
       "    </tr>\n",
       "  </tbody>\n",
       "</table>\n",
       "</div>"
      ],
      "text/plain": [
       "         o1         c        o2\n",
       "0  0.002294  0.170213  0.059393\n",
       "1  0.059393  0.031915  0.001020\n",
       "2  0.001020  0.095745  0.032373\n",
       "3  0.032373  0.031915  0.294927\n",
       "4  0.294927  0.638298  0.023961"
      ]
     },
     "execution_count": 14,
     "metadata": {},
     "output_type": "execute_result"
    }
   ],
   "source": [
    "df_40.head()"
   ]
  },
  {
   "cell_type": "code",
   "execution_count": 15,
   "id": "a1f92cb7",
   "metadata": {},
   "outputs": [],
   "source": [
    "df_40.to_csv('prepared_dataset/40_mV_OCO_sequences.csv', index=False)"
   ]
  },
  {
   "cell_type": "markdown",
   "id": "6b636463",
   "metadata": {},
   "source": [
    "### 60mV (hyperpolarization & depolarization) Sequences"
   ]
  },
  {
   "cell_type": "code",
   "execution_count": 16,
   "id": "811398ce",
   "metadata": {},
   "outputs": [],
   "source": [
    "e18 = OCO_Sequence(path + '-60mV/e18dwell_timesy.txt', '-60mV', False)\n",
    "e39 = OCO_Sequence(path + '-60mV/e39dwell_timesy.txt', '-60mV', False)\n",
    "e46 = OCO_Sequence(path + '-60mV/e46dwell_timesy.txt', '-60mV', False)\n",
    "e67 = OCO_Sequence(path + '-60mV/e67dwell_timesy.txt', '-60mV', False)\n",
    "e19 = OCO_Sequence(path + '60mV/e19dwell_timesy.txt', '60mV', True)\n",
    "e33 = OCO_Sequence(path + '60mV/e33dwell_timesy.txt', '60mV', True)\n",
    "e40 = OCO_Sequence(path + '60mV/e40dwell_timesy.txt', '60mV', True)"
   ]
  },
  {
   "cell_type": "code",
   "execution_count": 17,
   "id": "440a5c6d",
   "metadata": {},
   "outputs": [],
   "source": [
    "e18_df = e18.make_DataFrame()\n",
    "e39_df = e39.make_DataFrame()\n",
    "e46_df = e46.make_DataFrame()\n",
    "e67_df = e67.make_DataFrame()\n",
    "e19_df = e19.make_DataFrame()\n",
    "e33_df = e33.make_DataFrame()\n",
    "e40_df = e40.make_DataFrame()"
   ]
  },
  {
   "cell_type": "code",
   "execution_count": 18,
   "id": "03ea7cae",
   "metadata": {},
   "outputs": [],
   "source": [
    "df_60 = pd.concat([e18_df, e39_df, e46_df, e67_df, e19_df, e33_df, e40_df], ignore_index=True)"
   ]
  },
  {
   "cell_type": "code",
   "execution_count": 19,
   "id": "ee203118",
   "metadata": {},
   "outputs": [
    {
     "data": {
      "text/html": [
       "<div>\n",
       "<style scoped>\n",
       "    .dataframe tbody tr th:only-of-type {\n",
       "        vertical-align: middle;\n",
       "    }\n",
       "\n",
       "    .dataframe tbody tr th {\n",
       "        vertical-align: top;\n",
       "    }\n",
       "\n",
       "    .dataframe thead th {\n",
       "        text-align: right;\n",
       "    }\n",
       "</style>\n",
       "<table border=\"1\" class=\"dataframe\">\n",
       "  <thead>\n",
       "    <tr style=\"text-align: right;\">\n",
       "      <th></th>\n",
       "      <th>o1</th>\n",
       "      <th>c</th>\n",
       "      <th>o2</th>\n",
       "      <th>category</th>\n",
       "    </tr>\n",
       "  </thead>\n",
       "  <tbody>\n",
       "    <tr>\n",
       "      <th>0</th>\n",
       "      <td>0.197674</td>\n",
       "      <td>0.338843</td>\n",
       "      <td>0.029517</td>\n",
       "      <td>-60mV</td>\n",
       "    </tr>\n",
       "    <tr>\n",
       "      <th>1</th>\n",
       "      <td>0.029517</td>\n",
       "      <td>0.024793</td>\n",
       "      <td>0.228980</td>\n",
       "      <td>-60mV</td>\n",
       "    </tr>\n",
       "    <tr>\n",
       "      <th>2</th>\n",
       "      <td>0.228980</td>\n",
       "      <td>0.008264</td>\n",
       "      <td>0.025939</td>\n",
       "      <td>-60mV</td>\n",
       "    </tr>\n",
       "    <tr>\n",
       "      <th>3</th>\n",
       "      <td>0.025939</td>\n",
       "      <td>0.132231</td>\n",
       "      <td>0.072451</td>\n",
       "      <td>-60mV</td>\n",
       "    </tr>\n",
       "    <tr>\n",
       "      <th>4</th>\n",
       "      <td>0.072451</td>\n",
       "      <td>0.024793</td>\n",
       "      <td>0.002683</td>\n",
       "      <td>-60mV</td>\n",
       "    </tr>\n",
       "  </tbody>\n",
       "</table>\n",
       "</div>"
      ],
      "text/plain": [
       "         o1         c        o2 category\n",
       "0  0.197674  0.338843  0.029517    -60mV\n",
       "1  0.029517  0.024793  0.228980    -60mV\n",
       "2  0.228980  0.008264  0.025939    -60mV\n",
       "3  0.025939  0.132231  0.072451    -60mV\n",
       "4  0.072451  0.024793  0.002683    -60mV"
      ]
     },
     "execution_count": 19,
     "metadata": {},
     "output_type": "execute_result"
    }
   ],
   "source": [
    "df_60.head()"
   ]
  },
  {
   "cell_type": "code",
   "execution_count": 20,
   "id": "1f542fea",
   "metadata": {},
   "outputs": [],
   "source": [
    "df_60.drop('category', axis=1, inplace=True)"
   ]
  },
  {
   "cell_type": "code",
   "execution_count": 21,
   "id": "069e9de2",
   "metadata": {},
   "outputs": [],
   "source": [
    "df_60.to_csv('prepared_dataset/60_mV_OCO_sequences.csv', index=False)"
   ]
  }
 ],
 "metadata": {
  "kernelspec": {
   "display_name": "Python 3 (ipykernel)",
   "language": "python",
   "name": "python3"
  },
  "language_info": {
   "codemirror_mode": {
    "name": "ipython",
    "version": 3
   },
   "file_extension": ".py",
   "mimetype": "text/x-python",
   "name": "python",
   "nbconvert_exporter": "python",
   "pygments_lexer": "ipython3",
   "version": "3.9.13"
  }
 },
 "nbformat": 4,
 "nbformat_minor": 5
}
